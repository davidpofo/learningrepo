{
 "cells": [
  {
   "cell_type": "code",
   "execution_count": null,
   "metadata": {
    "collapsed": true
   },
   "outputs": [],
   "source": [
    "!pip install plotly --upgrade \n",
    "#https://plot.ly/python/sankey-diagram/"
   ]
  },
  {
   "cell_type": "code",
   "execution_count": 4,
   "metadata": {
    "collapsed": true
   },
   "outputs": [
    {
     "name": "stdout",
     "output_type": "stream",
     "text": [
      "Requirement already satisfied: plotly in c:\\programdata\\anaconda3\\lib\\site-packages\n",
      "Requirement already satisfied: retrying>=1.3.3 in c:\\programdata\\anaconda3\\lib\\site-packages (from plotly)\n",
      "Requirement already satisfied: pytz in c:\\programdata\\anaconda3\\lib\\site-packages (from plotly)\n",
      "Requirement already satisfied: nbformat>=4.2 in c:\\programdata\\anaconda3\\lib\\site-packages (from plotly)\n",
      "Requirement already satisfied: decorator>=4.0.6 in c:\\programdata\\anaconda3\\lib\\site-packages (from plotly)\n",
      "Requirement already satisfied: six in c:\\users\\flyff\\appdata\\roaming\\python\\python36\\site-packages (from plotly)\n",
      "Requirement already satisfied: requests in c:\\programdata\\anaconda3\\lib\\site-packages (from plotly)\n"
     ]
    },
    {
     "name": "stderr",
     "output_type": "stream",
     "text": [
      "You are using pip version 9.0.1, however version 18.1 is available.\n",
      "You should consider upgrading via the 'python -m pip install --upgrade pip' command.\n"
     ]
    }
   ],
   "source": [
    "# Install a pip package in the current Jupyter kernel https://jakevdp.github.io/blog/2017/12/05/installing-python-packages-from-jupyter/\n",
    "import sys\n",
    "!{sys.executable} -m pip install plotly"
   ]
  },
  {
   "cell_type": "code",
   "execution_count": null,
   "metadata": {
    "collapsed": false
   },
   "outputs": [],
   "source": [
    "import plotly\n",
    "plotly.__version__"
   ]
  },
  {
   "cell_type": "code",
   "execution_count": null,
   "metadata": {
    "collapsed": false
   },
   "outputs": [],
   "source": [
    "# Get this figure: fig = py.get_figure(\"https://plot.ly/~davidpofo/48/\")\n",
    "# Get this figure's data: data = py.get_figure(\"https://plot.ly/~davidpofo/48/\").get_data()\n",
    "# Add data to this figure: py.plot(Data([Scatter(x=[1, 2], y=[2, 3])]), filename =\"Post Grad School Job Search Sankey Diagram\", fileopt=\"extend\")\n",
    "\n",
    "# Get figure documentation: https://plot.ly/python/get-requests/\n",
    "# Add data documentation: https://plot.ly/python/file-options/\n",
    "\n",
    "# If you're using unicode in your file, you may need to specify the encoding.\n",
    "# You can reproduce this figure in Python with the following code!\n",
    "\n",
    "# Learn about API authentication here: https://plot.ly/python/getting-started\n",
    "# Find your api_key here: https://plot.ly/settings/api\n",
    "#Setting plotly credentials\n",
    "#plotly.tools.set_credentials_file(username='YOURUSERNAME', api_key='YOURAPIKEY')\n",
    "\n",
    "import plotly.plotly as py\n",
    "from plotly.graph_objs import *\n",
    "py.sign_in('username', 'api_key')\n",
    "trace1 = {\n",
    "  \"link\": {\n",
    "    \"source\": [0, \"0\", \"0\", \"0\", \"0\", \"1\", \"1\", \"1\", \"1\", \"8\", \"8\", \"10\", \"10\", \"2\", \"8\", \"10\", \"10\", \"10\", \"2\", \"3\", \"3\", \"8\", \"10\", \"4\", \"4\", \"8\", \"8\", \"10\", \"5\", \"5\", \"5\", \"8\"], \n",
    "    \"sourcesrc\": \"davidpofo:49:74681b\", \n",
    "    \"target\": [1, \"2\", \"3\", \"4\", \"5\", \"6\", \"7\", \"11\", \"8\", \"10\", \"9\", \"9\", \"11\", \"8\", \"10\", \"6\", \"11\", \"12\", \"6\", \"6\", \"8\", \"10\", \"11\", \"6\", \"8\", \"9\", \"10\", \"11\", \"11\", \"9\", \"8\", \"9\"], \n",
    "    \"targetsrc\": \"davidpofo:49:d99bfa\", \n",
    "    \"value\": [\"18\", \"29\", \"10\", \"3\", \"3\", \"5\", \"2\", \"7\", \"4\", \"3\", \"1\", \"1\", \"2\", \"3\", \"3\", \"1\", \"1\", \"1\", \"26\", \"9\", \"1\", \"1\", \"1\", \"1\", \"2\", \"1\", \"1\", \"1\", \"1\", \"2\", \"1\", \"1\"], \n",
    "    \"valuesrc\": \"davidpofo:49:0df039\"\n",
    "  }, \n",
    "  \"node\": {\n",
    "    \"color\": [\"green\", \"blue\", \"blue\", \"blue\", \"blue\", \"blue\", \"red\", \"black\", \"indigo\", \"orange\", \"violet\", \"red\", \"Gold\"], \n",
    "    \"colorsrc\": \"davidpofo:49:39e853\", \n",
    "    \"label\": [\"Applications\", \"Website\", \"Linkedin\", \"AngelList\", \"The Data Incubator\", \"Referral\", \"No Response\", \"Position eliminated\", \"Phone Interview\", \"Under Review\", \"Technical Interview\", \"Rejected\", \"Offer\"], \n",
    "    \"labelsrc\": \"davidpofo:49:b84793\", \n",
    "    \"line\": {\n",
    "      \"color\": \"black\", \n",
    "      \"width\": 0.05\n",
    "    }, \n",
    "    \"pad\": 100, \n",
    "    \"thickness\": 20\n",
    "  }, \n",
    "  \"type\": \"sankey\"\n",
    "}\n",
    "data = Data([trace1])\n",
    "layout = {\n",
    "  \"font\": {\"size\": 12}, \n",
    "  \"title\": \"Post Grad School Job Search Sankey Diagram\"\n",
    "}\n",
    "fig = Figure(data=data, layout=layout)\n",
    "plot_url = py.plot(fig)"
   ]
  }
 ],
 "metadata": {
  "kernelspec": {
   "display_name": "Python 3",
   "language": "python",
   "name": "python3"
  },
  "language_info": {
   "codemirror_mode": {
    "name": "ipython",
    "version": 3
   },
   "file_extension": ".py",
   "mimetype": "text/x-python",
   "name": "python",
   "nbconvert_exporter": "python",
   "pygments_lexer": "ipython3",
   "version": "3.6.0"
  }
 },
 "nbformat": 4,
 "nbformat_minor": 2
}
